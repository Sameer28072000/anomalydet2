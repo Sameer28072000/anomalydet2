{
 "cells": [
  {
   "cell_type": "markdown",
   "id": "94d03936-29f3-4244-b231-895f4032796f",
   "metadata": {},
   "source": [
    "Q1. What is the role of feature selection in anomaly detection?"
   ]
  },
  {
   "cell_type": "code",
   "execution_count": null,
   "id": "733dc6a6-66d3-4798-9532-6451f26d10d6",
   "metadata": {},
   "outputs": [],
   "source": [
    "Ans:-\n",
    "      i.improved performance\n",
    "       ii.reduced complexity\n",
    "       \n",
    "    Feature selection plays a crucial role in anomaly detection by improving performance, reducing complexity."
   ]
  },
  {
   "cell_type": "markdown",
   "id": "749fefd9-9669-4412-8702-04f164182dab",
   "metadata": {},
   "source": [
    "Q2. What are some common evaluation metrics for anomaly detection algorithms and how are they\n",
    "computed?"
   ]
  },
  {
   "cell_type": "code",
   "execution_count": null,
   "id": "e559f35e-02a2-4022-a16a-2b6d1c651482",
   "metadata": {},
   "outputs": [],
   "source": [
    "Ans:-The common evaluation metrics for anomaly detection algorithms\n",
    "       i.recall ---------> TP / (TP + FN)\n",
    "        ii.precision-------> TP / (TP + FP)\n",
    "          iii.F1 score------>2 * (Precision * Recall) / (Precision + Recall).\n",
    "            iv.accuracy--------->(TP + TN) / (TP + TN + FP + FN)."
   ]
  },
  {
   "cell_type": "markdown",
   "id": "aca4072f-4abf-465d-8f63-debac1711369",
   "metadata": {},
   "source": [
    "Q3. What is DBSCAN and how does it work for clustering?"
   ]
  },
  {
   "cell_type": "code",
   "execution_count": null,
   "id": "ca42351d-31a4-4dd5-9b17-590023d7f73c",
   "metadata": {},
   "outputs": [],
   "source": [
    "Ans:-It is usefull for clustering non-linear seperable data.\n",
    "      we can find the outlier through DBSCAN clustering\n",
    "       i.core point---            >=min_point\n",
    "        ii.noise/outlier-------  only one point\n",
    "           iii.border point-----   <=min_point\n",
    "            \n",
    "        Two hypermeter :-\n",
    "         i.min_point=4\n",
    "            ii.epsilon=radius"
   ]
  },
  {
   "cell_type": "markdown",
   "id": "504025d4-bd54-4b4b-9545-2a540181419c",
   "metadata": {},
   "source": [
    "Q4. How does the epsilon parameter affect the performance of DBSCAN in detecting anomalies?"
   ]
  },
  {
   "cell_type": "code",
   "execution_count": null,
   "id": "c93e0e8a-5e67-4765-8ebf-2ee810fcefbd",
   "metadata": {},
   "outputs": [],
   "source": [
    "Ans:-\n",
    "      The epsilon parameter defines the maximum distance between two data points for them to be considered neighbors.\n",
    "        i.smaller epsilon\n",
    "          ii.larger epsilon"
   ]
  },
  {
   "cell_type": "markdown",
   "id": "19626606-9d85-4831-8f8f-7204adea42c9",
   "metadata": {},
   "source": [
    "Q5. What are the differences between the core, border, and noise points in DBSCAN, and how do they relate\n",
    "to anomaly detection?"
   ]
  },
  {
   "cell_type": "code",
   "execution_count": null,
   "id": "fd122626-6363-4640-a5b3-95d13ae90b4a",
   "metadata": {},
   "outputs": [],
   "source": [
    "Ans:-\n",
    "     we can find the outlier through DBSCAN clustering\n",
    "       i.core point---            >=min_point\n",
    "        ii.noise/outlier-------  only one point\n",
    "           iii.border point-----   <=min_point\n",
    "            \n",
    "        Two hypermeter :-\n",
    "         i.min_point=4\n",
    "            ii.epsilon=radius"
   ]
  },
  {
   "cell_type": "markdown",
   "id": "bbbb4497-a8e8-4b0e-9942-833b54bc19c6",
   "metadata": {},
   "source": [
    "Q6. How does DBSCAN detect anomalies and what are the key parameters involved in the process?"
   ]
  },
  {
   "cell_type": "code",
   "execution_count": null,
   "id": "752e1bdc-46bc-49a4-86b5-635a7c3db2ab",
   "metadata": {},
   "outputs": [],
   "source": [
    "Ans:- It works based on the following key parameters and process:\n",
    "         i.min_point=4\n",
    "            ii.epsilon=radius\n",
    "        The steps involved in DBSCAN for anomaly detection:-\n",
    "          i.core point identification\n",
    "            ii.cluster formation\n",
    "              iii.noise detection"
   ]
  },
  {
   "cell_type": "markdown",
   "id": "73737f40-9d18-47eb-86db-792870a307e8",
   "metadata": {},
   "source": [
    "Q7. What is the make_circles package in scikit-learn used for?"
   ]
  },
  {
   "cell_type": "code",
   "execution_count": null,
   "id": "5c63aff3-0f63-44f8-b776-7ead75737d3e",
   "metadata": {},
   "outputs": [],
   "source": [
    "Ans:-Non-linear seperable data point that is why we used make_cirles in sckit-learn.\n",
    "    \n",
    "     from sklearndatasets import make_circles"
   ]
  },
  {
   "cell_type": "markdown",
   "id": "f21655cd-bc4a-4037-b322-92d2837b5058",
   "metadata": {},
   "source": [
    "Q8. What are local outliers and global outliers, and how do they differ from each other?"
   ]
  },
  {
   "cell_type": "code",
   "execution_count": null,
   "id": "5aa9171b-9612-42a3-8d09-c606d784bab1",
   "metadata": {},
   "outputs": [],
   "source": [
    "Ans:-\n",
    "     Local outlier:-\n",
    "       It is nothing but near to the two cluster/group of the data.\n",
    "        \n",
    "        Global outlier:-\n",
    "           Compeletely different from the other data points."
   ]
  },
  {
   "cell_type": "markdown",
   "id": "aa20325a-a95a-4406-a386-60e63b3ea96d",
   "metadata": {},
   "source": [
    "Q9. How can local outliers be detected using the Local Outlier Factor (LOF) algorithm?"
   ]
  },
  {
   "cell_type": "code",
   "execution_count": null,
   "id": "fe3f0ff9-6a5e-4ceb-9536-e180cfa33ed1",
   "metadata": {},
   "outputs": [],
   "source": [
    "Ans:-The Local Outlier Factor (LOF) algorithm is a popular density-based anomaly detection method\n",
    "      i.Calculate the LOF\n",
    "        ii.Threshold the LOF values"
   ]
  },
  {
   "cell_type": "markdown",
   "id": "9a52ef80-01c6-4d1a-9615-de8b24507e64",
   "metadata": {},
   "source": [
    "Q10. How can global outliers be detected using the Isolation Forest algorithm?"
   ]
  },
  {
   "cell_type": "code",
   "execution_count": null,
   "id": "1bdcf170-e3ce-4da6-b26a-7665ad744f5a",
   "metadata": {},
   "outputs": [],
   "source": [
    "Ans:-Global outliers be detected using the Isolation Forest algorithm:-\n",
    "       i.construct isolation tree\n",
    "        ii.calculate anamoly scores\n",
    "          iii.Threshold the anamoly scores"
   ]
  },
  {
   "cell_type": "markdown",
   "id": "dd225f69-4617-4369-99e4-0ecb78f960a0",
   "metadata": {},
   "source": [
    "Q11. What are some real-world applications where local outlier detection is more appropriate than global\n",
    "outlier detection, and vice versa?"
   ]
  },
  {
   "cell_type": "code",
   "execution_count": null,
   "id": "bd370ac0-b8f2-4529-9445-194d25adcecc",
   "metadata": {},
   "outputs": [],
   "source": [
    "Ans:-Local outlier detection and global outlier detection have different strengths\n",
    "      and applications depending on the nature of the data\n",
    "    \n",
    "    Local outlier:-\n",
    "      i.Fraud detection\n",
    "        ii.sensor network\n",
    "     \n",
    "    Global Outlier"
   ]
  }
 ],
 "metadata": {
  "kernelspec": {
   "display_name": "Python 3 (ipykernel)",
   "language": "python",
   "name": "python3"
  },
  "language_info": {
   "codemirror_mode": {
    "name": "ipython",
    "version": 3
   },
   "file_extension": ".py",
   "mimetype": "text/x-python",
   "name": "python",
   "nbconvert_exporter": "python",
   "pygments_lexer": "ipython3",
   "version": "3.10.8"
  }
 },
 "nbformat": 4,
 "nbformat_minor": 5
}
